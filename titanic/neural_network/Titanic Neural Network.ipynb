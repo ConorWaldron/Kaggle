{
 "cells": [
  {
   "cell_type": "code",
   "execution_count": 125,
   "id": "0af2366f",
   "metadata": {},
   "outputs": [],
   "source": [
    "import pandas as pd\n",
    "from sklearn.preprocessing import StandardScaler\n",
    "import tensorflow as tf\n",
    "from keras.models import Sequential\n",
    "from keras.layers import Dense\n",
    "import matplotlib.pyplot as plt\n",
    "import numpy as np"
   ]
  },
  {
   "cell_type": "markdown",
   "id": "ab212b99",
   "metadata": {},
   "source": [
    "## Import data"
   ]
  },
  {
   "cell_type": "code",
   "execution_count": 77,
   "id": "89f13792",
   "metadata": {},
   "outputs": [],
   "source": [
    "raw_train_df = pd.read_csv('../data/train.csv')\n",
    "\n",
    "test = pd.read_csv('../data/test.csv')\n",
    "sumbission = pd.read_csv('../data/gender_submission.csv')\n",
    "raw_test_df = test.merge(sumbission, how='inner', on='PassengerId')"
   ]
  },
  {
   "cell_type": "code",
   "execution_count": 49,
   "id": "bf9e86e3",
   "metadata": {},
   "outputs": [
    {
     "data": {
      "text/html": [
       "<div>\n",
       "<style scoped>\n",
       "    .dataframe tbody tr th:only-of-type {\n",
       "        vertical-align: middle;\n",
       "    }\n",
       "\n",
       "    .dataframe tbody tr th {\n",
       "        vertical-align: top;\n",
       "    }\n",
       "\n",
       "    .dataframe thead th {\n",
       "        text-align: right;\n",
       "    }\n",
       "</style>\n",
       "<table border=\"1\" class=\"dataframe\">\n",
       "  <thead>\n",
       "    <tr style=\"text-align: right;\">\n",
       "      <th></th>\n",
       "      <th>PassengerId</th>\n",
       "      <th>Survived</th>\n",
       "      <th>Pclass</th>\n",
       "      <th>Name</th>\n",
       "      <th>Sex</th>\n",
       "      <th>Age</th>\n",
       "      <th>SibSp</th>\n",
       "      <th>Parch</th>\n",
       "      <th>Ticket</th>\n",
       "      <th>Fare</th>\n",
       "      <th>Cabin</th>\n",
       "      <th>Embarked</th>\n",
       "    </tr>\n",
       "  </thead>\n",
       "  <tbody>\n",
       "    <tr>\n",
       "      <th>0</th>\n",
       "      <td>1</td>\n",
       "      <td>0</td>\n",
       "      <td>3</td>\n",
       "      <td>Braund, Mr. Owen Harris</td>\n",
       "      <td>male</td>\n",
       "      <td>22.0</td>\n",
       "      <td>1</td>\n",
       "      <td>0</td>\n",
       "      <td>A/5 21171</td>\n",
       "      <td>7.2500</td>\n",
       "      <td>NaN</td>\n",
       "      <td>S</td>\n",
       "    </tr>\n",
       "    <tr>\n",
       "      <th>1</th>\n",
       "      <td>2</td>\n",
       "      <td>1</td>\n",
       "      <td>1</td>\n",
       "      <td>Cumings, Mrs. John Bradley (Florence Briggs Th...</td>\n",
       "      <td>female</td>\n",
       "      <td>38.0</td>\n",
       "      <td>1</td>\n",
       "      <td>0</td>\n",
       "      <td>PC 17599</td>\n",
       "      <td>71.2833</td>\n",
       "      <td>C85</td>\n",
       "      <td>C</td>\n",
       "    </tr>\n",
       "    <tr>\n",
       "      <th>2</th>\n",
       "      <td>3</td>\n",
       "      <td>1</td>\n",
       "      <td>3</td>\n",
       "      <td>Heikkinen, Miss. Laina</td>\n",
       "      <td>female</td>\n",
       "      <td>26.0</td>\n",
       "      <td>0</td>\n",
       "      <td>0</td>\n",
       "      <td>STON/O2. 3101282</td>\n",
       "      <td>7.9250</td>\n",
       "      <td>NaN</td>\n",
       "      <td>S</td>\n",
       "    </tr>\n",
       "  </tbody>\n",
       "</table>\n",
       "</div>"
      ],
      "text/plain": [
       "   PassengerId  Survived  Pclass  \\\n",
       "0            1         0       3   \n",
       "1            2         1       1   \n",
       "2            3         1       3   \n",
       "\n",
       "                                                Name     Sex   Age  SibSp  \\\n",
       "0                            Braund, Mr. Owen Harris    male  22.0      1   \n",
       "1  Cumings, Mrs. John Bradley (Florence Briggs Th...  female  38.0      1   \n",
       "2                             Heikkinen, Miss. Laina  female  26.0      0   \n",
       "\n",
       "   Parch            Ticket     Fare Cabin Embarked  \n",
       "0      0         A/5 21171   7.2500   NaN        S  \n",
       "1      0          PC 17599  71.2833   C85        C  \n",
       "2      0  STON/O2. 3101282   7.9250   NaN        S  "
      ]
     },
     "execution_count": 49,
     "metadata": {},
     "output_type": "execute_result"
    }
   ],
   "source": [
    "raw_train_df.head(3)"
   ]
  },
  {
   "cell_type": "markdown",
   "id": "4a800e4f",
   "metadata": {},
   "source": [
    "## Process Data\n",
    "\n",
    "### Clean dataset"
   ]
  },
  {
   "cell_type": "code",
   "execution_count": 106,
   "id": "02f56c06",
   "metadata": {
    "scrolled": true
   },
   "outputs": [
    {
     "name": "stdout",
     "output_type": "stream",
     "text": [
      "Dropped 177 values 19.865319865319865 %\n",
      "Dropped 87 values 20.8133971291866 %\n"
     ]
    },
    {
     "data": {
      "text/html": [
       "<div>\n",
       "<style scoped>\n",
       "    .dataframe tbody tr th:only-of-type {\n",
       "        vertical-align: middle;\n",
       "    }\n",
       "\n",
       "    .dataframe tbody tr th {\n",
       "        vertical-align: top;\n",
       "    }\n",
       "\n",
       "    .dataframe thead th {\n",
       "        text-align: right;\n",
       "    }\n",
       "</style>\n",
       "<table border=\"1\" class=\"dataframe\">\n",
       "  <thead>\n",
       "    <tr style=\"text-align: right;\">\n",
       "      <th></th>\n",
       "      <th>Age</th>\n",
       "      <th>SibSp</th>\n",
       "      <th>Parch</th>\n",
       "      <th>Fare</th>\n",
       "      <th>Survived</th>\n",
       "      <th>class_1</th>\n",
       "      <th>class_2</th>\n",
       "      <th>class_3</th>\n",
       "      <th>embark_C</th>\n",
       "      <th>embark_Q</th>\n",
       "      <th>embark_S</th>\n",
       "      <th>Sex</th>\n",
       "    </tr>\n",
       "  </thead>\n",
       "  <tbody>\n",
       "    <tr>\n",
       "      <th>0</th>\n",
       "      <td>22.0</td>\n",
       "      <td>1</td>\n",
       "      <td>0</td>\n",
       "      <td>7.2500</td>\n",
       "      <td>0</td>\n",
       "      <td>0</td>\n",
       "      <td>0</td>\n",
       "      <td>1</td>\n",
       "      <td>0</td>\n",
       "      <td>0</td>\n",
       "      <td>1</td>\n",
       "      <td>1</td>\n",
       "    </tr>\n",
       "    <tr>\n",
       "      <th>1</th>\n",
       "      <td>38.0</td>\n",
       "      <td>1</td>\n",
       "      <td>0</td>\n",
       "      <td>71.2833</td>\n",
       "      <td>1</td>\n",
       "      <td>1</td>\n",
       "      <td>0</td>\n",
       "      <td>0</td>\n",
       "      <td>1</td>\n",
       "      <td>0</td>\n",
       "      <td>0</td>\n",
       "      <td>0</td>\n",
       "    </tr>\n",
       "    <tr>\n",
       "      <th>2</th>\n",
       "      <td>26.0</td>\n",
       "      <td>0</td>\n",
       "      <td>0</td>\n",
       "      <td>7.9250</td>\n",
       "      <td>1</td>\n",
       "      <td>0</td>\n",
       "      <td>0</td>\n",
       "      <td>1</td>\n",
       "      <td>0</td>\n",
       "      <td>0</td>\n",
       "      <td>1</td>\n",
       "      <td>0</td>\n",
       "    </tr>\n",
       "  </tbody>\n",
       "</table>\n",
       "</div>"
      ],
      "text/plain": [
       "    Age  SibSp  Parch     Fare  Survived  class_1  class_2  class_3  embark_C  \\\n",
       "0  22.0      1      0   7.2500         0        0        0        1         0   \n",
       "1  38.0      1      0  71.2833         1        1        0        0         1   \n",
       "2  26.0      0      0   7.9250         1        0        0        1         0   \n",
       "\n",
       "   embark_Q  embark_S  Sex  \n",
       "0         0         1    1  \n",
       "1         0         0    0  \n",
       "2         0         1    0  "
      ]
     },
     "execution_count": 106,
     "metadata": {},
     "output_type": "execute_result"
    }
   ],
   "source": [
    "def process_data(df_to_process):\n",
    "    categorical_columns = pd.get_dummies(\n",
    "        df_to_process[['Pclass', 'Embarked']], \n",
    "        prefix=['class', 'embark'],\n",
    "        columns=['Pclass', 'Embarked'], \n",
    "    )\n",
    "\n",
    "    processed_df = df_to_process[['Age', 'SibSp', 'Parch', 'Fare', 'Survived']].join(categorical_columns)\n",
    "    \n",
    "    processed_df['Sex'] = df_to_process['Sex'].replace(['female','male'],[0,1])\n",
    "\n",
    "    dropped_na = processed_df.dropna()\n",
    "\n",
    "    print('Dropped', len(processed_df) - len(dropped_na), 'values', 100 * (len(processed_df) - len(dropped_na)) / len(processed_df), \"%\")\n",
    "    x = dropped_na.drop(['Survived'], axis=1)\n",
    "    y = dropped_na[['Survived']]\n",
    "    return x, y\n",
    "\n",
    "x_train_proccessed, y_train_proccessed = process_data(raw_train_df)\n",
    "x_test_proccessed, y_test_proccessed = process_data(raw_test_df)\n",
    "\n",
    "processed_train_df.head(3)"
   ]
  },
  {
   "cell_type": "markdown",
   "id": "b54df502",
   "metadata": {},
   "source": [
    "### Visualise data"
   ]
  },
  {
   "cell_type": "code",
   "execution_count": 156,
   "id": "b7678e22",
   "metadata": {},
   "outputs": [],
   "source": [
    "def plot(title, df_to_plot):\n",
    "    fig, ax = plt.subplots(2,6,figsize=(16, 4))\n",
    "    \n",
    "    i = 0\n",
    "    j = 0\n",
    "\n",
    "    for c in df_to_plot.columns[0:]:\n",
    "        ax[j,i].hist(df_to_plot[c])\n",
    "        ax[j,i].set_title(c)\n",
    "        i = i + 1\n",
    "        if i == 6:\n",
    "            j = 1\n",
    "            i = 0\n",
    "\n",
    "    fig.subplots_adjust(hspace=1, wspace=0.2)\n",
    "    fig.suptitle(title)\n",
    "    plt.show()\n",
    "    \n",
    "df = x_train_proccessed.join(y_train_proccessed)\n",
    "\n",
    "survived = df.loc[(df.Survived == 1)]\n",
    "died = df.loc[(df.Survived == 0)]"
   ]
  },
  {
   "cell_type": "code",
   "execution_count": 157,
   "id": "b4b53177",
   "metadata": {},
   "outputs": [
    {
     "data": {
      "image/png": "[encoded data removed]",
      "text/plain": [
       "<Figure size 1152x288 with 12 Axes>"
      ]
     },
     "metadata": {
      "needs_background": "light"
     },
     "output_type": "display_data"
    }
   ],
   "source": [
    "plot(\"Survived\", survived)"
   ]
  },
  {
   "cell_type": "code",
   "execution_count": 152,
   "id": "4f9902c2",
   "metadata": {},
   "outputs": [
    {
     "data": {
      "image/png": "[encoded data removed]",
      "text/plain": [
       "<Figure size 1152x288 with 12 Axes>"
      ]
     },
     "metadata": {
      "needs_background": "light"
     },
     "output_type": "display_data"
    }
   ],
   "source": [
    "plot(\"Died\", died)"
   ]
  },
  {
   "cell_type": "markdown",
   "id": "5f01ab27",
   "metadata": {},
   "source": [
    "### Normalise dataset"
   ]
  },
  {
   "cell_type": "code",
   "execution_count": 123,
   "id": "07086b63",
   "metadata": {},
   "outputs": [],
   "source": [
    "scaler = StandardScaler().fit(x_train_proccessed)\n",
    "\n",
    "x_train = scaler.transform(x_train_proccessed)\n",
    "x_test = scaler.transform(x_test_proccessed)\n",
    "\n",
    "y_train = y_train_proccessed[\"Survived\"].to_numpy()\n",
    "y_test = y_test_proccessed[\"Survived\"].to_numpy()"
   ]
  },
  {
   "cell_type": "markdown",
   "id": "ad564ed2",
   "metadata": {},
   "source": [
    "## Train Model"
   ]
  },
  {
   "cell_type": "code",
   "execution_count": 167,
   "id": "0306c295",
   "metadata": {},
   "outputs": [
    {
     "name": "stdout",
     "output_type": "stream",
     "text": [
      "Epoch 1/6\n",
      "714/714 [==============================] - 2s 586us/step - loss: 0.6927 - accuracy: 0.5584\n",
      "Epoch 2/6\n",
      "714/714 [==============================] - 0s 647us/step - loss: 0.5079 - accuracy: 0.7509\n",
      "Epoch 3/6\n",
      "714/714 [==============================] - 0s 587us/step - loss: 0.4138 - accuracy: 0.8084\n",
      "Epoch 4/6\n",
      "714/714 [==============================] - 0s 588us/step - loss: 0.4282 - accuracy: 0.8041\n",
      "Epoch 5/6\n",
      "714/714 [==============================] - 0s 599us/step - loss: 0.4286 - accuracy: 0.8071\n",
      "Epoch 6/6\n",
      "714/714 [==============================] - 0s 619us/step - loss: 0.4335 - accuracy: 0.8067\n"
     ]
    },
    {
     "data": {
      "text/plain": [
       "<keras.callbacks.History at 0x16c6c6fa0>"
      ]
     },
     "execution_count": 167,
     "metadata": {},
     "output_type": "execute_result"
    }
   ],
   "source": [
    "model = Sequential()\n",
    "\n",
    "model.add(Dense(8, activation='relu', input_shape=(11,)))\n",
    "model.add(Dense(8, activation='relu'))\n",
    "model.add(Dense(1, activation='sigmoid'))\n",
    "\n",
    "model.compile(loss='binary_crossentropy',\n",
    "              optimizer='adam',\n",
    "              metrics=['accuracy'])\n",
    "\n",
    "model.fit(x_train, y_train, epochs=6, batch_size=1, verbose=1)"
   ]
  },
  {
   "cell_type": "code",
   "execution_count": 171,
   "id": "7dfa460a",
   "metadata": {},
   "outputs": [
    {
     "name": "stdout",
     "output_type": "stream",
     "text": [
      "11/11 [==============================] - 0s 829us/step - loss: 0.3184 - accuracy: 0.8489\n",
      "[0.3184032738208771, 0.8489425778388977]\n"
     ]
    }
   ],
   "source": [
    "y_pred = model.predict(x_test)\n",
    "\n",
    "score = model.evaluate(x_test, y_test,verbose=1)"
   ]
  }
 ],
 "metadata": {
  "kernelspec": {
   "display_name": "Python 3 (ipykernel)",
   "language": "python",
   "name": "python3"
  },
  "language_info": {
   "codemirror_mode": {
    "name": "ipython",
    "version": 3
   },
   "file_extension": ".py",
   "mimetype": "text/x-python",
   "name": "python",
   "nbconvert_exporter": "python",
   "pygments_lexer": "ipython3",
   "version": "3.9.4"
  }
 },
 "nbformat": 4,
 "nbformat_minor": 5
}
